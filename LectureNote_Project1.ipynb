{
 "cells": [
  {
   "cell_type": "markdown",
   "metadata": {},
   "source": [
    "# LectureNote: Project - 1\n",
    "\n",
    "\n",
    "# Project - 선형회귀를 활용한 배추가격 예측 AI 개발 (1 ~ 7강)"
   ]
  },
  {
   "cell_type": "markdown",
   "metadata": {},
   "source": [
    "# 1강 프로젝트 개요"
   ]
  },
  {
   "cell_type": "markdown",
   "metadata": {},
   "source": [
    "## 요약\n",
    "\n",
    "이 프로젝트는 다변인 선형 회귀를 활용한 배추가격 예측 AI 모델을 개발하는 것이다.\n",
    "초급 수준의 인공지능 강의이기 때문에, 선형회귀만 알고도 모델을 구축할 수 있다. 더불어 실제로 인공지능을 활용한 웹 서비스 구축방법을 알고싶은 학생, 인공지능의 기초과정을 프로젝트를 통해 다지고자 하는 학생, 간단한 인공지능 기술을 활용하고 싶은 학생들에게 적합한 프로젝트이다. 파이썬, 텐서프로에서 학습된 모델을 저장 및 불러오기, Flask Web Server, MD bootstrap 과 같은 기술들을 사용하게 될 것이다. \n"
   ]
  },
  {
   "cell_type": "markdown",
   "metadata": {},
   "source": [
    "# 2강 프로젝트 아이디어 결정 및 데이터 수집"
   ]
  },
  {
   "cell_type": "markdown",
   "metadata": {},
   "source": [
    "## 요약\n",
    "\n",
    "다변인 선형회귀란 데이터를 예측할때 사용할 수 있는 대표적 모델인데,\n",
    "특정한 대상을 예측하는 프로젝트 아이디어를 결정하고 나면, 이를 위한 데이터를 수집해야 한다. \n",
    "배추 가격 예측을 위해서는 대한민국 기상청의 기상자료를 사용하며, 농산물 유통 정보 사이트를 통해 배추 가격 정보를 가져온다.\n",
    "이렇게 처음 수집한 데이터는 인공지능 sw가 인식하기 쉬운 형태로 데이터를 정제하는 작업을 해야 한다. 가능한 많은 데이터를 수집한 뒤, 배추 가격 데이터를 정제한다. 날짜에 따른 평균 배추 가격을 담아서 엑셀파일로 저장한다."
   ]
  },
  {
   "cell_type": "markdown",
   "metadata": {},
   "source": [
    "# 3강 다변형 선형회귀 모델 구현하기"
   ]
  },
  {
   "cell_type": "markdown",
   "metadata": {},
   "source": [
    "## 요약\n",
    "\n",
    "받아온 데이터를 특정 파일로 저장해 경로를 넣어준다.\n",
    "csv파일은 각 데이터가 ,로 구분되어있다. 데이터 중 평균온도 최고온도 최저온도 강수량의 4개의 변인이 가격에 영향을 미친다고 감안 후 코딩을 진행한다.\n",
    "\n",
    "모델 구현을 위한 기본 코드는 아래와 같다."
   ]
  },
  {
   "cell_type": "code",
   "execution_count": 1,
   "metadata": {},
   "outputs": [],
   "source": [
    "import tensorflow as tf\n",
    "import numpy as np\n",
    "from pandas.io.parsers import read_csv\n",
    "\n",
    "model = tf.global_variables_initializer()\n",
    "\n",
    "data = read_csv('price data.csv', sep=',')\n",
    "\n",
    "xy = np.array(data, dtype=np.float32)"
   ]
  },
  {
   "cell_type": "markdown",
   "metadata": {},
   "source": [
    "위에서 4가지의 변인이 가격에 영향을 미치기 때문에,\n",
    "H(x1, x2, x3, x4) = x1w1 + x2w2 + x3w3 + x4w4 와 같은 가설(식)을 세울 수 있다. \n",
    "이를 소스코드로 옮겨보면,"
   ]
  },
  {
   "cell_type": "code",
   "execution_count": 10,
   "metadata": {
    "collapsed": true
   },
   "outputs": [],
   "source": [
    "x_data = xy[:, 1:-1]\n",
    "y_data = xy[:, [-1]]"
   ]
  },
  {
   "cell_type": "code",
   "execution_count": null,
   "metadata": {
    "collapsed": true
   },
   "outputs": [],
   "source": [
    "X = tf.placeholder(tf.float32, shape=[None, 4])\n",
    "Y = tf.placeholder(tf.float32, shape=[None, 1])\n",
    "\n",
    "W = tf.Variable(tf.random_normal([4, 1]), name=\"weight\")\n",
    "b = tf.Variable(tf.random_normal([1]), name=\"bias\")"
   ]
  },
  {
   "cell_type": "markdown",
   "metadata": {},
   "source": [
    "이 다음, 각 함수를 설정한 후 session을 설정한다."
   ]
  },
  {
   "cell_type": "code",
   "execution_count": null,
   "metadata": {},
   "outputs": [],
   "source": [
    "hypothesis = tf.matmul(X, W) + b\n",
    "\n",
    "cost = tf.reduce_mean(tf.square(hypothesis - Y))\\optimizer = tf.train.GradientDescentOptimizer(learning_rate=0.000005)\n",
    "train = optimizer.minimize(cost)\n",
    "\n",
    "sess = tf.Session()\n",
    "sess.run(tf.global_variables_initializer())"
   ]
  },
  {
   "cell_type": "markdown",
   "metadata": {},
   "source": [
    "그 후 학습을 실제로 수행한다."
   ]
  },
  {
   "cell_type": "code",
   "execution_count": null,
   "metadata": {},
   "outputs": [],
   "source": [
    "for step in range(100001):\n",
    "    cost_, hypo_, _ = sess.run([cost, hypothesis, train], feed_dict={X: x_data, Y: y_data})\n",
    "    if step % 500 == 0:\n",
    "        print(\"#\", step, \" 손실 비용: \", cost_)\n",
    "        print(\"- 배추 가격: \", hypo_[0])"
   ]
  },
  {
   "cell_type": "markdown",
   "metadata": {},
   "source": [
    "약 10만번의 학습을 수행한 후, 학습된 모델을 저장한다."
   ]
  },
  {
   "cell_type": "code",
   "execution_count": null,
   "metadata": {},
   "outputs": [],
   "source": [
    "saver = tf.train.Saver()\n",
    "save_path = saver.save(sess, \"./saved.cpkt\")\n",
    "print('학습된 모델을 저장했습니다.')"
   ]
  },
  {
   "cell_type": "markdown",
   "metadata": {},
   "source": [
    "이로써 향후 사용자가 날씨 정보를 입력했을 때, 배추 가격을 바로 보여줄 수 있도록 구현한 학습모델이 파일 형태로 저장된 것을 확인할 수 있다."
   ]
  }
 ],
 "metadata": {
  "kernelspec": {
   "display_name": "Python 3",
   "language": "python",
   "name": "python3"
  },
  "language_info": {
   "codemirror_mode": {
    "name": "ipython",
    "version": 3
   },
   "file_extension": ".py",
   "mimetype": "text/x-python",
   "name": "python",
   "nbconvert_exporter": "python",
   "pygments_lexer": "ipython3",
   "version": "3.6.8"
  }
 },
 "nbformat": 4,
 "nbformat_minor": 2
}
